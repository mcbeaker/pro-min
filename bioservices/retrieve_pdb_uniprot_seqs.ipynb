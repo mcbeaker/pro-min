{
 "metadata": {
  "language_info": {
   "codemirror_mode": {
    "name": "ipython",
    "version": 3
   },
   "file_extension": ".py",
   "mimetype": "text/x-python",
   "name": "python",
   "nbconvert_exporter": "python",
   "pygments_lexer": "ipython3",
   "version": 3
  },
  "orig_nbformat": 2,
  "kernelspec": {
   "name": "python_defaultSpec_1595288626751",
   "display_name": "Python 3.7.3 64-bit"
  }
 },
 "nbformat": 4,
 "nbformat_minor": 2,
 "cells": [
  {
   "cell_type": "code",
   "execution_count": null,
   "metadata": {},
   "outputs": [],
   "source": [
    "from bioservices.uniprot import UniProt #imports uniprot \n",
    "import pandas as pd "
   ]
  },
  {
   "cell_type": "code",
   "execution_count": 39,
   "metadata": {
    "tags": []
   },
   "outputs": [
    {
     "output_type": "stream",
     "name": "stdout",
     "text": "Index(['SP_PRIMARY', 'pdb_chain', 'ID', 'module', 'cofactor_id',\n       'cofactor_type', 'ec', 'name', 'species', 'superkingdom', 'pdbID',\n       'chainID', 'residueNum', 'cofactor_id2'],\n      dtype='object')\n"
    }
   ],
   "source": [
    "Input = '/Users/ken/Box/proj/proXtal/justin_redoxPotential/data/RISE2020/data/2020_Raanan/key_value.csv'\n",
    "key_value = pd.read_table(Input,sep=\",\",header=0) # import the key_value.csv file\n",
    "print(key_value.columns)\n",
    "# print(key_value)"
   ]
  },
  {
   "cell_type": "code",
   "execution_count": 41,
   "metadata": {},
   "outputs": [
    {
     "output_type": "error",
     "ename": "NameError",
     "evalue": "name 'pdb_id' is not defined",
     "traceback": [
      "\u001b[0;31m---------------------------------------------------------------------------\u001b[0m",
      "\u001b[0;31mNameError\u001b[0m                                 Traceback (most recent call last)",
      "\u001b[0;32m<ipython-input-41-92fd6e6b7ff3>\u001b[0m in \u001b[0;36m<module>\u001b[0;34m\u001b[0m\n\u001b[1;32m     35\u001b[0m     \u001b[0;31m# print(row.pdbID)\u001b[0m\u001b[0;34m\u001b[0m\u001b[0;34m\u001b[0m\u001b[0;34m\u001b[0m\u001b[0m\n\u001b[1;32m     36\u001b[0m     \u001b[0mmap\u001b[0m \u001b[0;34m=\u001b[0m \u001b[0mu\u001b[0m\u001b[0;34m.\u001b[0m\u001b[0mmapping\u001b[0m\u001b[0;34m(\u001b[0m\u001b[0mrow\u001b[0m\u001b[0;34m.\u001b[0m\u001b[0mpdbID\u001b[0m\u001b[0;34m+\u001b[0m\u001b[0;34m\".\"\u001b[0m\u001b[0;34m+\u001b[0m\u001b[0mrow\u001b[0m\u001b[0;34m.\u001b[0m\u001b[0mchainID\u001b[0m\u001b[0;34m)\u001b[0m\u001b[0;34m\u001b[0m\u001b[0;34m\u001b[0m\u001b[0m\n\u001b[0;32m---> 37\u001b[0;31m     \u001b[0mprint\u001b[0m\u001b[0;34m(\u001b[0m\u001b[0mmap_pdb_to_uniprot\u001b[0m\u001b[0;34m(\u001b[0m\u001b[0mpdb_id\u001b[0m\u001b[0;34m)\u001b[0m\u001b[0;34m)\u001b[0m\u001b[0;34m\u001b[0m\u001b[0;34m\u001b[0m\u001b[0m\n\u001b[0m",
      "\u001b[0;31mNameError\u001b[0m: name 'pdb_id' is not defined"
     ]
    }
   ],
   "source": [
    "import requests\n",
    "from xml.etree.ElementTree import fromstring\n",
    "\n",
    "# pdb_id = '4hhb.A' #example\n",
    "pdb_mapping_url = 'http://www.rcsb.org/pdb/rest/das/pdb_uniprot_mapping/alignment'\n",
    "uniprot_url = 'http://www.uniprot.org/uniprot/{}.xml'\n",
    "\n",
    "def get_uniprot_accession_id(response_xml):\n",
    "    root = fromstring(response_xml)\n",
    "    return next(\n",
    "        el for el in root.getchildren()[0].getchildren()\n",
    "        if el.attrib['dbSource'] == 'UniProt'\n",
    "    ).attrib['dbAccessionId']\n",
    "\n",
    "def get_uniprot_protein_name(uniport_id):\n",
    "    uinprot_response = requests.get(\n",
    "        uniprot_url.format(uniport_id)\n",
    "    ).text\n",
    "    return fromstring(uinprot_response).find(\n",
    "        './/{http://uniprot.org/uniprot}recommendedName/{http://uniprot.org/uniprot}fullName'\n",
    "    ).text\n",
    "\n",
    "def map_pdb_to_uniprot(pdb_id):\n",
    "    pdb_mapping_response = requests.get(\n",
    "        pdb_mapping_url, params={'query': pdb_id}\n",
    "    ).text\n",
    "    uniprot_id = get_uniprot_accession_id(pdb_mapping_response)\n",
    "    uniprot_name = get_uniprot_protein_name(uniprot_id)\n",
    "    return {\n",
    "        'pdb_id': pdb_id,\n",
    "        'uniprot_id': uniprot_id,\n",
    "        'uniprot_name': uniprot_name\n",
    "    }\n",
    "for i, row in key_value.iterrows():\n",
    "    # print(row.pdbID)\n",
    "    pdb_id = row.pdbID+\".\"+row.chainID\n",
    "    print(map_pdb_to_uniprot(pdb_id))"
   ]
  },
  {
   "cell_type": "code",
   "execution_count": null,
   "metadata": {
    "tags": []
   },
   "outputs": [],
   "source": [
    "u = UniProt(verbose=True)\n",
    "for i, row in key_value.iterrows():\n",
    "    # print(row.pdbID)\n",
    "    map = u.mapping(\"PDB_ID\",\"ACC\", row.pdbID)\n",
    "    # print(map)\n",
    "    if(len(map[row.pdbID])>1):\n",
    "\n",
    "        for ac in map[row.pdbID]:\n",
    "            print(map)\n",
    "            print(ac)\n",
    "            fasta = u.get_fasta_sequence(ac)\n",
    "            print(fasta)"
   ]
  },
  {
   "cell_type": "code",
   "execution_count": null,
   "metadata": {},
   "outputs": [],
   "source": []
  }
 ]
}